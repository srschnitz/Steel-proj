{
 "cells": [
  {
   "cell_type": "code",
   "execution_count": 4,
   "id": "b5383ff8-6741-4cdc-ac76-041c45d9b78d",
   "metadata": {},
   "outputs": [],
   "source": [
    "# Need to remember to do at start of each session\n",
    "import pandas as pd\n"
   ]
  },
  {
   "cell_type": "code",
   "execution_count": 55,
   "id": "cf9da7b0-a11f-462a-b58f-0c6f421618d3",
   "metadata": {},
   "outputs": [],
   "source": [
    "df = pd.read_csv(r\"C:\\Users\\srsch\\OneDrive\\Desktop\\weather data Sucheion.csv\")\n"
   ]
  },
  {
   "cell_type": "code",
   "execution_count": 57,
   "id": "47f62922-428f-41dc-95bc-e90679791b3f",
   "metadata": {},
   "outputs": [
    {
     "name": "stdout",
     "output_type": "stream",
     "text": [
      "<class 'pandas.core.frame.DataFrame'>\n",
      "RangeIndex: 8760 entries, 0 to 8759\n",
      "Data columns (total 5 columns):\n",
      " #   Column                    Non-Null Count  Dtype  \n",
      "---  ------                    --------------  -----  \n",
      " 0   time                      8760 non-null   object \n",
      " 1   temperature_2m (Â°C)      8760 non-null   float64\n",
      " 2   relative_humidity_2m (%)  8760 non-null   int64  \n",
      " 3   dew_point_2m (Â°C)        8760 non-null   float64\n",
      " 4   precipitation (mm)        8760 non-null   float64\n",
      "dtypes: float64(3), int64(1), object(1)\n",
      "memory usage: 342.3+ KB\n",
      "None\n"
     ]
    }
   ],
   "source": [
    "#verify AND check data before trying to merge\n",
    "print(df.info())  \n"
   ]
  },
  {
   "cell_type": "code",
   "execution_count": 58,
   "id": "22c09ca4-f012-426b-b2ac-bcbd1080a014",
   "metadata": {},
   "outputs": [
    {
     "name": "stdout",
     "output_type": "stream",
     "text": [
      "Index(['time', 'temperature_2m (Â°C)', 'relative_humidity_2m (%)',\n",
      "       'dew_point_2m (Â°C)', 'precipitation (mm)'],\n",
      "      dtype='object')\n"
     ]
    }
   ],
   "source": [
    "#Checking Column names again before I change to date\n",
    "print(df.columns)"
   ]
  },
  {
   "cell_type": "code",
   "execution_count": 60,
   "id": "94962fb9-32c2-404b-b70b-864dbbf33253",
   "metadata": {},
   "outputs": [
    {
     "name": "stdout",
     "output_type": "stream",
     "text": [
      "                date  temperature_2m (Â°C)  relative_humidity_2m (%)  \\\n",
      "0   2018-01-01T00:00                  -1.3                        63   \n",
      "1   2018-01-01T01:00                  -1.5                        65   \n",
      "2   2018-01-01T02:00                  -0.9                        64   \n",
      "3   2018-01-01T03:00                  -1.4                        66   \n",
      "4   2018-01-01T04:00                  -1.7                        66   \n",
      "5   2018-01-01T05:00                  -2.1                        68   \n",
      "6   2018-01-01T06:00                  -2.4                        68   \n",
      "7   2018-01-01T07:00                  -2.7                        69   \n",
      "8   2018-01-01T08:00                  -2.7                        67   \n",
      "9   2018-01-01T09:00                   0.2                        57   \n",
      "10  2018-01-01T10:00                   2.5                        50   \n",
      "11  2018-01-01T11:00                   4.0                        37   \n",
      "12  2018-01-01T12:00                   5.0                        37   \n",
      "13  2018-01-01T13:00                   5.6                        37   \n",
      "14  2018-01-01T14:00                   5.8                        39   \n",
      "15  2018-01-01T15:00                   5.8                        38   \n",
      "16  2018-01-01T16:00                   5.1                        42   \n",
      "17  2018-01-01T17:00                   3.6                        48   \n",
      "18  2018-01-01T18:00                   1.1                        58   \n",
      "19  2018-01-01T19:00                  -0.7                        67   \n",
      "\n",
      "    dew_point_2m (Â°C)  precipitation (mm)  \n",
      "0                 -7.5                 0.0  \n",
      "1                 -7.3                 0.0  \n",
      "2                 -7.0                 0.0  \n",
      "3                 -7.0                 0.0  \n",
      "4                 -7.2                 0.0  \n",
      "5                 -7.2                 0.0  \n",
      "6                 -7.5                 0.0  \n",
      "7                 -7.7                 0.0  \n",
      "8                 -7.9                 0.0  \n",
      "9                 -7.3                 0.0  \n",
      "10                -7.0                 0.0  \n",
      "11                -9.3                 0.0  \n",
      "12                -8.6                 0.0  \n",
      "13                -7.8                 0.0  \n",
      "14                -7.3                 0.0  \n",
      "15                -7.3                 0.0  \n",
      "16                -6.6                 0.0  \n",
      "17                -6.3                 0.0  \n",
      "18                -6.3                 0.0  \n",
      "19                -6.1                 0.0  \n",
      "<class 'pandas.core.frame.DataFrame'>\n",
      "RangeIndex: 8760 entries, 0 to 8759\n",
      "Data columns (total 5 columns):\n",
      " #   Column                    Non-Null Count  Dtype  \n",
      "---  ------                    --------------  -----  \n",
      " 0   date                      8760 non-null   object \n",
      " 1   temperature_2m (Â°C)      8760 non-null   float64\n",
      " 2   relative_humidity_2m (%)  8760 non-null   int64  \n",
      " 3   dew_point_2m (Â°C)        8760 non-null   float64\n",
      " 4   precipitation (mm)        8760 non-null   float64\n",
      "dtypes: float64(3), int64(1), object(1)\n",
      "memory usage: 342.3+ KB\n",
      "None\n"
     ]
    }
   ],
   "source": [
    "#Changing the column name from time to date\n",
    "df.rename(columns={\"time\": \"date\"}, inplace=True)\n",
    "\n",
    "#See the first rows and inspect data types and columns\n",
    "print(df.head(20))  \n",
    "print(df.info())  \n",
    "\n",
    "\n"
   ]
  },
  {
   "cell_type": "code",
   "execution_count": 61,
   "id": "d04e5e75-dc1a-41e2-9cf6-9f952d6ad9f8",
   "metadata": {},
   "outputs": [],
   "source": [
    "#converting the the date\n",
    "#Since the date data has a T in it.  I will change to a string and then remove the T.\n",
    "#Adding the \\u202C to remove the invisiable unicode characters that might be part of the dataset and giving me trouble with formatting\n",
    "df[\"date\"] = df[\"date\"].astype(str).str.strip().str.replace(\"T\", \" \").str.replace(\"\\u202C\", \"\") \n",
    "\n",
    "#originally tryied to use%y-%m-%d %H:%M. however, will try the pandas auto detect method.  fingers crossed\n",
    "df[\"date\"] = pd.to_datetime(df[\"date\"], errors=\"coerce\")\n",
    "\n"
   ]
  },
  {
   "cell_type": "code",
   "execution_count": 62,
   "id": "65759548-0b50-4a1f-9abc-db80bbecc297",
   "metadata": {},
   "outputs": [
    {
     "name": "stdout",
     "output_type": "stream",
     "text": [
      "                 date  temperature_2m (Â°C)  relative_humidity_2m (%)  \\\n",
      "0 2018-01-01 00:00:00                  -1.3                        63   \n",
      "1 2018-01-01 01:00:00                  -1.5                        65   \n",
      "2 2018-01-01 02:00:00                  -0.9                        64   \n",
      "3 2018-01-01 03:00:00                  -1.4                        66   \n",
      "4 2018-01-01 04:00:00                  -1.7                        66   \n",
      "\n",
      "   dew_point_2m (Â°C)  precipitation (mm)  \n",
      "0                -7.5                 0.0  \n",
      "1                -7.3                 0.0  \n",
      "2                -7.0                 0.0  \n",
      "3                -7.0                 0.0  \n",
      "4                -7.2                 0.0  \n",
      "<class 'pandas.core.frame.DataFrame'>\n",
      "RangeIndex: 8760 entries, 0 to 8759\n",
      "Data columns (total 5 columns):\n",
      " #   Column                    Non-Null Count  Dtype         \n",
      "---  ------                    --------------  -----         \n",
      " 0   date                      8760 non-null   datetime64[ns]\n",
      " 1   temperature_2m (Â°C)      8760 non-null   float64       \n",
      " 2   relative_humidity_2m (%)  8760 non-null   int64         \n",
      " 3   dew_point_2m (Â°C)        8760 non-null   float64       \n",
      " 4   precipitation (mm)        8760 non-null   float64       \n",
      "dtypes: datetime64[ns](1), float64(3), int64(1)\n",
      "memory usage: 342.3 KB\n",
      "None\n"
     ]
    }
   ],
   "source": [
    "#checking for the change by view the first few rows 9really looking for my data not to be NaT for date.\n",
    "print(df.head())  \n",
    "#inspect the data type and column stucture\n",
    "print(df.info())  \n"
   ]
  },
  {
   "cell_type": "code",
   "execution_count": 65,
   "id": "1bcb3e86-3c42-46a4-b57a-c9ed7edc8e93",
   "metadata": {},
   "outputs": [
    {
     "name": "stdout",
     "output_type": "stream",
     "text": [
      "<DatetimeArray>\n",
      "['2018-01-01 00:00:00', '2018-01-01 01:00:00', '2018-01-01 02:00:00',\n",
      " '2018-01-01 03:00:00', '2018-01-01 04:00:00', '2018-01-01 05:00:00',\n",
      " '2018-01-01 06:00:00', '2018-01-01 07:00:00', '2018-01-01 08:00:00',\n",
      " '2018-01-01 09:00:00',\n",
      " ...\n",
      " '2018-12-31 14:00:00', '2018-12-31 15:00:00', '2018-12-31 16:00:00',\n",
      " '2018-12-31 17:00:00', '2018-12-31 18:00:00', '2018-12-31 19:00:00',\n",
      " '2018-12-31 20:00:00', '2018-12-31 21:00:00', '2018-12-31 22:00:00',\n",
      " '2018-12-31 23:00:00']\n",
      "Length: 8760, dtype: datetime64[ns]\n"
     ]
    }
   ],
   "source": [
    "#verify that there are no unexpected values \n",
    "print(df[\"date\"].unique())  # Shows all unique values\n"
   ]
  },
  {
   "cell_type": "code",
   "execution_count": 66,
   "id": "2485fc0b-9738-4b6c-b02d-ebf13c38c90a",
   "metadata": {},
   "outputs": [
    {
     "name": "stdout",
     "output_type": "stream",
     "text": [
      "date                        datetime64[ns]\n",
      "temperature_2m (Â°C)               float64\n",
      "relative_humidity_2m (%)             int64\n",
      "dew_point_2m (Â°C)                 float64\n",
      "precipitation (mm)                 float64\n",
      "dtype: object\n",
      "0   2018-01-01 00:00:00\n",
      "1   2018-01-01 01:00:00\n",
      "2   2018-01-01 02:00:00\n",
      "3   2018-01-01 03:00:00\n",
      "4   2018-01-01 04:00:00\n",
      "Name: date, dtype: datetime64[ns]\n"
     ]
    }
   ],
   "source": [
    "#one last check before I work on merging my data with the steel project\n",
    "print(df.dtypes)\n",
    "print(df[\"date\"].head())\n"
   ]
  },
  {
   "cell_type": "code",
   "execution_count": 68,
   "id": "10ab6c0a-46b7-45f1-893d-0fe9ed337d02",
   "metadata": {},
   "outputs": [],
   "source": [
    "#saving my weatherdataclean as a CSV file\n",
    "df.to_csv(r\"C:\\Users\\srsch\\OneDrive\\Desktop\\cleaned_weather_data.csv\", index=False)\n",
    "\n"
   ]
  },
  {
   "cell_type": "code",
   "execution_count": null,
   "id": "0ef172f1-4159-4cf4-aea7-facfdb4c8aa2",
   "metadata": {},
   "outputs": [],
   "source": []
  }
 ],
 "metadata": {
  "kernelspec": {
   "display_name": "Python 3 (ipykernel)",
   "language": "python",
   "name": "python3"
  },
  "language_info": {
   "codemirror_mode": {
    "name": "ipython",
    "version": 3
   },
   "file_extension": ".py",
   "mimetype": "text/x-python",
   "name": "python",
   "nbconvert_exporter": "python",
   "pygments_lexer": "ipython3",
   "version": "3.12.10"
  }
 },
 "nbformat": 4,
 "nbformat_minor": 5
}
