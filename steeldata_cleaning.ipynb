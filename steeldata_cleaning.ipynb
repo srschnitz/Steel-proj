{
 "cells": [
  {
   "cell_type": "code",
   "execution_count": 1,
   "id": "f9b91b1a-4d17-436d-a694-fc0dae859847",
   "metadata": {},
   "outputs": [
    {
     "name": "stdout",
     "output_type": "stream",
     "text": [
      "archive (2).zip - Last Modified: 2025-04-25 11:14:56.415047\n",
      "246856249459.JPEG - Last Modified: 2025-04-21 12:10:39.980797\n",
      "Screenshot_21-4-2025_12137_inverness-mi.com.jpeg - Last Modified: 2025-04-21 12:01:38.336217\n",
      "Anaconda3-2024.10-1-Windows-x86_64.exe - Last Modified: 2025-04-17 19:36:08.515884\n",
      "winedata2.xlsx - Last Modified: 2025-04-17 11:33:02.938034\n",
      "CustomTheme.json - Last Modified: 2025-04-16 13:24:04.580700\n",
      "archive (1) - Last Modified: 2025-04-15 13:29:14.680106\n",
      "archive (1).zip - Last Modified: 2025-04-15 13:28:15.340314\n",
      "JohnSusanSchnitzelTax.pdf - Last Modified: 2025-04-15 13:06:46.353849\n",
      "Screenshot_12-4-2025_143110_www.bing.com.jpeg - Last Modified: 2025-04-12 14:31:10.776064\n"
     ]
    }
   ],
   "source": [
    "import os\n",
    "from datetime import datetime\n",
    "\n",
    "# Set path to Downloads folder\n",
    "downloads_path = r\"C:\\Users\\srsch\\Downloads\"\n",
    "\n",
    "# Get all files with their modification times\n",
    "files = [(f, os.path.getmtime(os.path.join(downloads_path, f))) for f in os.listdir(downloads_path)]\n",
    "\n",
    "# Sort files by modification time (newest first)\n",
    "files_sorted = sorted(files, key=lambda x: x[1], reverse=True)\n",
    "\n",
    "# Print sorted files with timestamps\n",
    "for f, t in files_sorted[:10]:  # Limit to 10 newest files\n",
    "    print(f\"{f} - Last Modified: {datetime.fromtimestamp(t)}\")\n"
   ]
  },
  {
   "cell_type": "code",
   "execution_count": 4,
   "id": "e5034808-20f2-41dc-86b4-f9ae426176d6",
   "metadata": {},
   "outputs": [
    {
     "ename": "NameError",
     "evalue": "name 'zipfile' is not defined",
     "output_type": "error",
     "traceback": [
      "\u001b[31m---------------------------------------------------------------------------\u001b[39m",
      "\u001b[31mNameError\u001b[39m                                 Traceback (most recent call last)",
      "\u001b[36mCell\u001b[39m\u001b[36m \u001b[39m\u001b[32mIn[4]\u001b[39m\u001b[32m, line 5\u001b[39m\n\u001b[32m      2\u001b[39m zip_path = \u001b[33mr\u001b[39m\u001b[33m\"\u001b[39m\u001b[33mC:\u001b[39m\u001b[33m\\\u001b[39m\u001b[33mUsers\u001b[39m\u001b[33m\\\u001b[39m\u001b[33msrsch\u001b[39m\u001b[33m\\\u001b[39m\u001b[33mDownloads\u001b[39m\u001b[33m\\\u001b[39m\u001b[33marchive (2).zip\u001b[39m\u001b[33m\"\u001b[39m  \u001b[38;5;66;03m# Use 'r' for raw string format\u001b[39;00m\n\u001b[32m      4\u001b[39m \u001b[38;5;28;01mif\u001b[39;00m os.path.exists(zip_path):  \u001b[38;5;66;03m# Check if the file exists\u001b[39;00m\n\u001b[32m----> \u001b[39m\u001b[32m5\u001b[39m     \u001b[38;5;28;01mwith\u001b[39;00m \u001b[43mzipfile\u001b[49m.ZipFile(zip_path, \u001b[33m'\u001b[39m\u001b[33mr\u001b[39m\u001b[33m'\u001b[39m) \u001b[38;5;28;01mas\u001b[39;00m zip_ref:\n\u001b[32m      6\u001b[39m         zip_ref.extractall(\u001b[33m\"\u001b[39m\u001b[33munzipped_data\u001b[39m\u001b[33m\"\u001b[39m)\n\u001b[32m      7\u001b[39m \u001b[38;5;28;01melse\u001b[39;00m:\n",
      "\u001b[31mNameError\u001b[39m: name 'zipfile' is not defined"
     ]
    }
   ],
   "source": [
    "import pandas as pd\n",
    "zip_path = r\"C:\\Users\\srsch\\Downloads\\archive (2).zip\"  # Use 'r' for raw string format\n",
    "\n",
    "if os.path.exists(zip_path):  # Check if the file exists\n",
    "    with zipfile.ZipFile(zip_path, 'r') as zip_ref:\n",
    "        zip_ref.extractall(\"unzipped_data\")\n",
    "else:\n",
    "    print(\"File not found. Check the path or filename.\")\n"
   ]
  },
  {
   "cell_type": "code",
   "execution_count": 5,
   "id": "3397b88c-3534-4daf-a884-8e6309eae186",
   "metadata": {},
   "outputs": [],
   "source": [
    "df = pd.read_csv(r\"C:\\Users\\srsch\\unzipped_data\\Steel_industry_data.csv\")\n"
   ]
  },
  {
   "cell_type": "code",
   "execution_count": 6,
   "id": "d09a42af-5733-4bc0-bdff-99b95e0f5504",
   "metadata": {},
   "outputs": [
    {
     "data": {
      "text/html": [
       "<div>\n",
       "<style scoped>\n",
       "    .dataframe tbody tr th:only-of-type {\n",
       "        vertical-align: middle;\n",
       "    }\n",
       "\n",
       "    .dataframe tbody tr th {\n",
       "        vertical-align: top;\n",
       "    }\n",
       "\n",
       "    .dataframe thead th {\n",
       "        text-align: right;\n",
       "    }\n",
       "</style>\n",
       "<table border=\"1\" class=\"dataframe\">\n",
       "  <thead>\n",
       "    <tr style=\"text-align: right;\">\n",
       "      <th></th>\n",
       "      <th>date</th>\n",
       "      <th>Usage_kWh</th>\n",
       "      <th>Lagging_Current_Reactive.Power_kVarh</th>\n",
       "      <th>Leading_Current_Reactive_Power_kVarh</th>\n",
       "      <th>CO2(tCO2)</th>\n",
       "      <th>Lagging_Current_Power_Factor</th>\n",
       "      <th>Leading_Current_Power_Factor</th>\n",
       "      <th>NSM</th>\n",
       "      <th>WeekStatus</th>\n",
       "      <th>Day_of_week</th>\n",
       "      <th>Load_Type</th>\n",
       "    </tr>\n",
       "  </thead>\n",
       "  <tbody>\n",
       "    <tr>\n",
       "      <th>0</th>\n",
       "      <td>01/01/2018 00:15</td>\n",
       "      <td>3.17</td>\n",
       "      <td>2.95</td>\n",
       "      <td>0.0</td>\n",
       "      <td>0.0</td>\n",
       "      <td>73.21</td>\n",
       "      <td>100.0</td>\n",
       "      <td>900</td>\n",
       "      <td>Weekday</td>\n",
       "      <td>Monday</td>\n",
       "      <td>Light_Load</td>\n",
       "    </tr>\n",
       "    <tr>\n",
       "      <th>1</th>\n",
       "      <td>01/01/2018 00:30</td>\n",
       "      <td>4.00</td>\n",
       "      <td>4.46</td>\n",
       "      <td>0.0</td>\n",
       "      <td>0.0</td>\n",
       "      <td>66.77</td>\n",
       "      <td>100.0</td>\n",
       "      <td>1800</td>\n",
       "      <td>Weekday</td>\n",
       "      <td>Monday</td>\n",
       "      <td>Light_Load</td>\n",
       "    </tr>\n",
       "    <tr>\n",
       "      <th>2</th>\n",
       "      <td>01/01/2018 00:45</td>\n",
       "      <td>3.24</td>\n",
       "      <td>3.28</td>\n",
       "      <td>0.0</td>\n",
       "      <td>0.0</td>\n",
       "      <td>70.28</td>\n",
       "      <td>100.0</td>\n",
       "      <td>2700</td>\n",
       "      <td>Weekday</td>\n",
       "      <td>Monday</td>\n",
       "      <td>Light_Load</td>\n",
       "    </tr>\n",
       "    <tr>\n",
       "      <th>3</th>\n",
       "      <td>01/01/2018 01:00</td>\n",
       "      <td>3.31</td>\n",
       "      <td>3.56</td>\n",
       "      <td>0.0</td>\n",
       "      <td>0.0</td>\n",
       "      <td>68.09</td>\n",
       "      <td>100.0</td>\n",
       "      <td>3600</td>\n",
       "      <td>Weekday</td>\n",
       "      <td>Monday</td>\n",
       "      <td>Light_Load</td>\n",
       "    </tr>\n",
       "    <tr>\n",
       "      <th>4</th>\n",
       "      <td>01/01/2018 01:15</td>\n",
       "      <td>3.82</td>\n",
       "      <td>4.50</td>\n",
       "      <td>0.0</td>\n",
       "      <td>0.0</td>\n",
       "      <td>64.72</td>\n",
       "      <td>100.0</td>\n",
       "      <td>4500</td>\n",
       "      <td>Weekday</td>\n",
       "      <td>Monday</td>\n",
       "      <td>Light_Load</td>\n",
       "    </tr>\n",
       "  </tbody>\n",
       "</table>\n",
       "</div>"
      ],
      "text/plain": [
       "               date  Usage_kWh  Lagging_Current_Reactive.Power_kVarh  \\\n",
       "0  01/01/2018 00:15       3.17                                  2.95   \n",
       "1  01/01/2018 00:30       4.00                                  4.46   \n",
       "2  01/01/2018 00:45       3.24                                  3.28   \n",
       "3  01/01/2018 01:00       3.31                                  3.56   \n",
       "4  01/01/2018 01:15       3.82                                  4.50   \n",
       "\n",
       "   Leading_Current_Reactive_Power_kVarh  CO2(tCO2)  \\\n",
       "0                                   0.0        0.0   \n",
       "1                                   0.0        0.0   \n",
       "2                                   0.0        0.0   \n",
       "3                                   0.0        0.0   \n",
       "4                                   0.0        0.0   \n",
       "\n",
       "   Lagging_Current_Power_Factor  Leading_Current_Power_Factor   NSM  \\\n",
       "0                         73.21                         100.0   900   \n",
       "1                         66.77                         100.0  1800   \n",
       "2                         70.28                         100.0  2700   \n",
       "3                         68.09                         100.0  3600   \n",
       "4                         64.72                         100.0  4500   \n",
       "\n",
       "  WeekStatus Day_of_week   Load_Type  \n",
       "0    Weekday      Monday  Light_Load  \n",
       "1    Weekday      Monday  Light_Load  \n",
       "2    Weekday      Monday  Light_Load  \n",
       "3    Weekday      Monday  Light_Load  \n",
       "4    Weekday      Monday  Light_Load  "
      ]
     },
     "execution_count": 6,
     "metadata": {},
     "output_type": "execute_result"
    }
   ],
   "source": [
    "df.head()  # Shows the first few rows\n"
   ]
  },
  {
   "cell_type": "code",
   "execution_count": null,
   "id": "e3ba68ae-3755-4cce-8034-44601726b69f",
   "metadata": {},
   "outputs": [],
   "source": [
    "#look for missing values\n",
    "df.isnull().sum()"
   ]
  },
  {
   "cell_type": "code",
   "execution_count": null,
   "id": "df614c4c-ca20-4af7-9f59-763a7e782fc4",
   "metadata": {},
   "outputs": [],
   "source": [
    "#check if all columns have correct types\n",
    "df.info()\n"
   ]
  },
  {
   "cell_type": "code",
   "execution_count": null,
   "id": "3add3d71-b980-47a8-bbe5-4c125ff2f73f",
   "metadata": {},
   "outputs": [],
   "source": [
    "#viewing more rows to see if the numbers added to date is stanard times.  Increase\n",
    "pd.set_option('display.max_rows', None)\n",
    "df.head(100)"
   ]
  },
  {
   "cell_type": "code",
   "execution_count": null,
   "id": "9abd0bf9-79ff-405f-bd60-8a630f893e86",
   "metadata": {},
   "outputs": [],
   "source": [
    "#Fixing errors with date format and then extract the date and time in seperate columns.\n",
    "#based on viewing date column, the date format is DD/MM/YYYY HH:MM, but pandas defaults do not include HH:MM.\n",
    "#Defining the format with pandas on how to interpret the date values.   \n",
    "#Using errors='coerce' to replace invalid values with NaT to prevent conversion fail. (%Y, not %y)\n",
    "df[\"date\"] = pd.to_datetime(df[\"date\"], format=\"%d/%m/%Y %H:%M\", errors=\"coerce\")\n",
    "\n",
    "#check datetime format \n",
    "df[\"date\"] = pd.to_datetime(df[\"date\"]) \n",
    "#extract date to new column named date_only\n",
    "df[\"date_only\"] = df[\"date\"].dt.date \n",
    "#extract time to new column time_only\n",
    "df[\"time_only\"] = df[\"date\"].dt.time  \n"
   ]
  },
  {
   "cell_type": "code",
   "execution_count": null,
   "id": "cd324444-9810-4395-b744-b01ac1b72a0a",
   "metadata": {},
   "outputs": [],
   "source": [
    "#no errors, so checking column values and info\n",
    "df.info()\n",
    "df.head(100)\n"
   ]
  },
  {
   "cell_type": "code",
   "execution_count": null,
   "id": "3cbde4a6-4806-4cb0-8954-5bd7000a9e38",
   "metadata": {},
   "outputs": [],
   "source": [
    "#converting time into Numeric values.  #for future, if see trends might seperate to time of day as well or seperate columns of mins/hours\n",
    "#Instead of seconds since midnight, converting to decimal format - ie. 12:30 would be 12.50  \n",
    "df[\"time_numeric_dec\"] = df[\"date\"].dt.hour + (df[\"date\"].dt.minute / 60)"
   ]
  },
  {
   "cell_type": "code",
   "execution_count": null,
   "id": "951ad06b-cf90-4bd7-be93-6dd0c6d13ea4",
   "metadata": {},
   "outputs": [],
   "source": [
    "#no errors, so checking column values and info\n",
    "df.info()\n",
    "df.head(100)"
   ]
  },
  {
   "cell_type": "code",
   "execution_count": null,
   "id": "bd251392-e8be-436c-b162-e0060b796bf9",
   "metadata": {},
   "outputs": [],
   "source": [
    "#want to have options for future analysis, creating another time column\n",
    "#convert time_only to numerical seconds since midnight \n",
    "df[\"time_seconds_since_midnight\"] = df[\"date\"].dt.hour * 3600 + df[\"date\"].dt.minute * 60 + df[\"date\"].dt.second\n"
   ]
  },
  {
   "cell_type": "code",
   "execution_count": null,
   "id": "d68a2052-3efc-464d-b8c5-9aa5af6b02ee",
   "metadata": {},
   "outputs": [],
   "source": [
    "#no errors, so checking column values and info\n",
    "df.info()\n",
    "df.head(100)"
   ]
  },
  {
   "cell_type": "code",
   "execution_count": null,
   "id": "887bf3ea-e025-43f9-a2aa-8d76943b7287",
   "metadata": {},
   "outputs": [],
   "source": [
    "import pandas as pd  # Make sure Pandas is imported\n",
    "\n",
    "df.info()"
   ]
  },
  {
   "cell_type": "code",
   "execution_count": null,
   "id": "5584ee64-e705-49ea-9ffc-915e8912412c",
   "metadata": {},
   "outputs": [],
   "source": []
  },
  {
   "cell_type": "code",
   "execution_count": null,
   "id": "db128e20-456b-495a-8b8d-a901db076286",
   "metadata": {},
   "outputs": [],
   "source": []
  }
 ],
 "metadata": {
  "kernelspec": {
   "display_name": "Python 3 (ipykernel)",
   "language": "python",
   "name": "python3"
  },
  "language_info": {
   "codemirror_mode": {
    "name": "ipython",
    "version": 3
   },
   "file_extension": ".py",
   "mimetype": "text/x-python",
   "name": "python",
   "nbconvert_exporter": "python",
   "pygments_lexer": "ipython3",
   "version": "3.12.10"
  }
 },
 "nbformat": 4,
 "nbformat_minor": 5
}
